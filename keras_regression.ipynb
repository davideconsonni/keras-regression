{
  "nbformat": 4,
  "nbformat_minor": 0,
  "metadata": {
    "colab": {
      "name": "keras-regression.ipynb",
      "provenance": [],
      "collapsed_sections": [],
      "authorship_tag": "ABX9TyN65NKI3SpRpVOHI3ibY1AO",
      "include_colab_link": true
    },
    "kernelspec": {
      "name": "python3",
      "display_name": "Python 3"
    }
  },
  "cells": [
    {
      "cell_type": "markdown",
      "metadata": {
        "id": "view-in-github",
        "colab_type": "text"
      },
      "source": [
        "<a href=\"https://colab.research.google.com/github/davideconsonni/keras-regression/blob/main/keras_regression.ipynb\" target=\"_parent\"><img src=\"https://colab.research.google.com/assets/colab-badge.svg\" alt=\"Open In Colab\"/></a>"
      ]
    },
    {
      "cell_type": "code",
      "metadata": {
        "id": "0JSKy_UgSp8y"
      },
      "source": [
        "import numpy as np\r\n",
        "import pandas as pd\r\n",
        "import tensorflow as tf\r\n",
        "from keras.layers import Dense\r\n",
        "from keras.models import Sequential\r\n",
        "from matplotlib import pyplot as plt"
      ],
      "execution_count": 1,
      "outputs": []
    },
    {
      "cell_type": "markdown",
      "metadata": {
        "id": "kmET9oNHS2g6"
      },
      "source": [
        "Define and compile the neural network"
      ]
    },
    {
      "cell_type": "code",
      "metadata": {
        "id": "wYh8vxaySrKv"
      },
      "source": [
        "model = Sequential()\r\n",
        "model.add(Dense(1, input_shape=[1]))\r\n",
        "\r\n",
        "model.compile(optimizer='sgd', loss='mean_squared_error')"
      ],
      "execution_count": 2,
      "outputs": []
    },
    {
      "cell_type": "markdown",
      "metadata": {
        "id": "5XFUX6kYS8KW"
      },
      "source": [
        "Providing the data"
      ]
    },
    {
      "cell_type": "code",
      "metadata": {
        "colab": {
          "base_uri": "https://localhost:8080/"
        },
        "id": "QdNcM6WQSt9V",
        "outputId": "07a14102-4f6d-4a73-8ca5-aebb6e8e3f06"
      },
      "source": [
        "# input\r\n",
        "xs = np.array(list(range(-5, 10)), dtype=float)\r\n",
        "\r\n",
        "# result\r\n",
        "m = []\r\n",
        "for i in range(-5, 10):\r\n",
        "    m.append(float(i*3) + 1) # logic: f(x) = (x * 3) + 1\r\n",
        "ys = np.array(m)\r\n",
        "\r\n",
        "print(pd.DataFrame(xs).T)\r\n",
        "print(pd.DataFrame(ys).T)"
      ],
      "execution_count": 3,
      "outputs": [
        {
          "output_type": "stream",
          "text": [
            "    0    1    2    3    4    5    6    7    8    9    10   11   12   13   14\n",
            "0 -5.0 -4.0 -3.0 -2.0 -1.0  0.0  1.0  2.0  3.0  4.0  5.0  6.0  7.0  8.0  9.0\n",
            "     0     1    2    3    4    5   ...    9     10    11    12    13    14\n",
            "0 -14.0 -11.0 -8.0 -5.0 -2.0  1.0  ...  13.0  16.0  19.0  22.0  25.0  28.0\n",
            "\n",
            "[1 rows x 15 columns]\n"
          ],
          "name": "stdout"
        }
      ]
    },
    {
      "cell_type": "code",
      "metadata": {
        "colab": {
          "base_uri": "https://localhost:8080/",
          "height": 269
        },
        "id": "899JBqH6iKtv",
        "outputId": "c66baac7-3629-4b88-b9c7-121994163193"
      },
      "source": [
        "plt.plot(xs, c='blue', label='input')\r\n",
        "plt.plot(ys, c='red', label='result')\r\n",
        "plt.legend()\r\n",
        "plt.show()"
      ],
      "execution_count": 4,
      "outputs": [
        {
          "output_type": "display_data",
          "data": {
            "image/png": "[encoded data removed]",
            "text/plain": [
              "<Figure size 432x288 with 1 Axes>"
            ]
          },
          "metadata": {
            "tags": [],
            "needs_background": "light"
          }
        }
      ]
    },
    {
      "cell_type": "markdown",
      "metadata": {
        "id": "C9TgKg_jS-XI"
      },
      "source": [
        "Train the neural network"
      ]
    },
    {
      "cell_type": "code",
      "metadata": {
        "colab": {
          "base_uri": "https://localhost:8080/"
        },
        "id": "HDJjRtEkSuvL",
        "outputId": "c500af04-3881-4863-e6eb-c336593a80f4"
      },
      "source": [
        "model.fit(xs, ys, epochs=500, verbose=0, validation_split=0.1)"
      ],
      "execution_count": 5,
      "outputs": [
        {
          "output_type": "execute_result",
          "data": {
            "text/plain": [
              "<tensorflow.python.keras.callbacks.History at 0x7f80bc5c5d30>"
            ]
          },
          "metadata": {
            "tags": []
          },
          "execution_count": 5
        }
      ]
    },
    {
      "cell_type": "markdown",
      "metadata": {
        "id": "M6XaWx7lTABz"
      },
      "source": [
        "Save the entire model as a SavedModel"
      ]
    },
    {
      "cell_type": "code",
      "metadata": {
        "id": "pJQ0mKMqSv1H"
      },
      "source": [
        "# to export the model:\r\n",
        "#tf.keras.models.save_model(model=model, filepath='../exporter/00000001')\r\n",
        "\r\n",
        "# to import the model:\r\n",
        "# model = keras.models.load_model('saved_model/my_model')"
      ],
      "execution_count": 6,
      "outputs": []
    },
    {
      "cell_type": "markdown",
      "metadata": {
        "id": "V7R5Oqe3TIeh"
      },
      "source": [
        "Do predictions"
      ]
    },
    {
      "cell_type": "code",
      "metadata": {
        "colab": {
          "base_uri": "https://localhost:8080/"
        },
        "id": "y926bCkXS0Wk",
        "outputId": "901dcf88-1525-4380-a1db-09c4901f36df"
      },
      "source": [
        "print(model.predict([4]))  # (4 * 3) + 1 = 13\r\n",
        "print(model.predict([5]))  # (5 * 3) + 1 = 16\r\n",
        "print(model.predict([15]))  # (15 * 3) + 1 = 46"
      ],
      "execution_count": 7,
      "outputs": [
        {
          "output_type": "stream",
          "text": [
            "[[12.999952]]\n",
            "[[15.999957]]\n",
            "[[46.000008]]\n"
          ],
          "name": "stdout"
        }
      ]
    }
  ]
}